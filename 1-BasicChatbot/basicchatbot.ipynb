{
 "cells": [
  {
   "cell_type": "markdown",
   "id": "60114350",
   "metadata": {},
   "source": [
    "### Build a basic chatbot with langgraph (graph api)"
   ]
  },
  {
   "cell_type": "code",
   "execution_count": 2,
   "id": "66efd7b4",
   "metadata": {},
   "outputs": [],
   "source": [
    "from typing import Annotated\n",
    "from typing_extensions import TypedDict\n",
    "\n",
    "from langgraph.graph import StateGraph,START,END\n",
    "from langgraph.graph.message import add_messages\n",
    "\n"
   ]
  },
  {
   "cell_type": "code",
   "execution_count": 3,
   "id": "0a9251e3",
   "metadata": {},
   "outputs": [],
   "source": [
    "from langchain.schema.messages import AIMessage, HumanMessage"
   ]
  },
  {
   "cell_type": "code",
   "execution_count": 4,
   "id": "31a88f39",
   "metadata": {},
   "outputs": [],
   "source": [
    "class State(TypedDict):\n",
    "    messages:Annotated[list,add_messages]"
   ]
  },
  {
   "cell_type": "code",
   "execution_count": 5,
   "id": "63744f60",
   "metadata": {},
   "outputs": [
    {
     "data": {
      "text/plain": [
       "True"
      ]
     },
     "execution_count": 5,
     "metadata": {},
     "output_type": "execute_result"
    }
   ],
   "source": [
    "import os\n",
    "from dotenv import load_dotenv\n",
    "load_dotenv()"
   ]
  },
  {
   "cell_type": "code",
   "execution_count": 6,
   "id": "15eab276",
   "metadata": {},
   "outputs": [],
   "source": [
    "from langchain_groq import ChatGroq\n",
    "from langchain.chat_models import init_chat_model\n",
    "llm=ChatGroq(model=\"llama-3.1-8b-instant\")"
   ]
  },
  {
   "cell_type": "code",
   "execution_count": 7,
   "id": "0ed4ded6",
   "metadata": {},
   "outputs": [
    {
     "data": {
      "text/plain": [
       "ChatGroq(client=<groq.resources.chat.completions.Completions object at 0x000001A9A16435E0>, async_client=<groq.resources.chat.completions.AsyncCompletions object at 0x000001A9A1A4EAA0>, model_name='llama-3.1-8b-instant', model_kwargs={}, groq_api_key=SecretStr('**********'))"
      ]
     },
     "execution_count": 7,
     "metadata": {},
     "output_type": "execute_result"
    }
   ],
   "source": [
    "llm=init_chat_model(\"groq:llama-3.1-8b-instant\")\n",
    "llm"
   ]
  },
  {
   "cell_type": "code",
   "execution_count": 75,
   "id": "985de42a",
   "metadata": {},
   "outputs": [],
   "source": [
    "def chatbot(state:State):\n",
    "    return {\"messages\":[llm.invoke(state[\"messages\"])]}"
   ]
  },
  {
   "cell_type": "code",
   "execution_count": 76,
   "id": "bf96e0f5",
   "metadata": {},
   "outputs": [],
   "source": [
    "graph_builder=StateGraph(State)\n",
    "\n",
    "# Add Nodes\n",
    "graph_builder.add_node(\"llmchatbot\",chatbot)\n",
    "\n",
    "# Add Edges\n",
    "graph_builder.add_edge(START,\"llmchatbot\")\n",
    "graph_builder.add_edge(\"llmchatbot\",END)\n",
    "\n",
    "# Compile Graph\n",
    "graph=graph_builder.compile()"
   ]
  },
  {
   "cell_type": "code",
   "execution_count": 77,
   "id": "fa2098df",
   "metadata": {},
   "outputs": [
    {
     "data": {
      "image/png": "[encoded data removed]",
      "text/plain": [
       "<IPython.core.display.Image object>"
      ]
     },
     "metadata": {},
     "output_type": "display_data"
    }
   ],
   "source": [
    "# Visulaize the graph \n",
    "\n",
    "from IPython.display import Image,display\n",
    "\n",
    "try:\n",
    "    display(Image(graph.get_graph().draw_mermaid_png()))\n",
    "except Exception:\n",
    "    pass"
   ]
  },
  {
   "cell_type": "code",
   "execution_count": 81,
   "id": "28117965",
   "metadata": {},
   "outputs": [],
   "source": [
    "response=graph.invoke({\"messages\":\"Hi\"})"
   ]
  },
  {
   "cell_type": "code",
   "execution_count": 86,
   "id": "c3ce0121",
   "metadata": {},
   "outputs": [
    {
     "data": {
      "text/plain": [
       "\"It's nice to meet you. Is there something I can help you with or would you like to chat?\""
      ]
     },
     "execution_count": 86,
     "metadata": {},
     "output_type": "execute_result"
    }
   ],
   "source": [
    "response[\"messages\"][-1].content"
   ]
  },
  {
   "cell_type": "code",
   "execution_count": 93,
   "id": "e26b58fd",
   "metadata": {},
   "outputs": [
    {
     "name": "stdout",
     "output_type": "stream",
     "text": [
      "I'm doing well, thank you for asking. I'm a large language model, so I don't have emotions or feelings like humans do, but I'm here and ready to help with any questions or tasks you may have. How can I assist you today?\n"
     ]
    }
   ],
   "source": [
    "for event in graph.stream({\"messages\":\"Hi How are you?\"}):\n",
    "    for value in event.values():\n",
    "        print(value[\"messages\"][-1].content)"
   ]
  },
  {
   "cell_type": "markdown",
   "id": "4d302edd",
   "metadata": {},
   "source": [
    "### Chatbot with Tools"
   ]
  },
  {
   "cell_type": "code",
   "execution_count": 8,
   "id": "8e7a2cd3",
   "metadata": {},
   "outputs": [
    {
     "data": {
      "text/plain": [
       "{'query': 'What is langgraph',\n",
       " 'follow_up_questions': None,\n",
       " 'answer': None,\n",
       " 'images': [],\n",
       " 'results': [{'url': 'https://www.datacamp.com/tutorial/langgraph-tutorial',\n",
       "   'title': 'LangGraph Tutorial: What Is LangGraph and How to Use It?',\n",
       "   'content': 'LangGraph is a library within the LangChain ecosystem that provides a framework for defining, coordinating, and executing multiple LLM agents (or chains) in a structured and efficient manner. By managing the flow of data and the sequence of operations, LangGraph allows developers to focus on the high-level logic of their applications rather than the intricacies of agent coordination. Whether you need a chatbot that can handle various types of user requests or a multi-agent system that performs complex tasks, LangGraph provides the tools to build exactly what you need. LangGraph significantly simplifies the development of complex LLM applications by providing a structured framework for managing state and coordinating agent interactions.',\n",
       "   'score': 0.9502313,\n",
       "   'raw_content': None},\n",
       "  {'url': 'https://www.ibm.com/think/topics/langgraph',\n",
       "   'title': 'What is LangGraph? - IBM',\n",
       "   'content': 'LangGraph, created by LangChain, is an open source AI agent framework designed to build, deploy and manage complex generative AI agent workflows. At its core, LangGraph uses the power of graph-based architectures to model and manage the intricate relationships between various components of an AI agent workflow. LangGraph illuminates the processes within an AI workflow, allowing full transparency of the agent’s state. By combining these technologies with a set of APIs and tools, LangGraph provides users with a versatile platform for developing AI solutions and workflows including chatbots, state graphs and other agent-based systems. Nodes: In LangGraph, nodes represent individual components or agents within an AI workflow. LangGraph uses enhanced decision-making by modeling complex relationships between nodes, which means it uses AI agents to analyze their past actions and feedback.',\n",
       "   'score': 0.94401723,\n",
       "   'raw_content': None},\n",
       "  {'url': 'https://langchain-ai.github.io/langgraph/',\n",
       "   'title': 'LangGraph - GitHub Pages',\n",
       "   'content': 'LangGraph Our Building Ambient Agents with LangGraph course is now available on LangChain Academy! LangGraph  LangGraph  LangGraph Trusted by companies shaping the future of agents – including Klarna, Replit, Elastic, and more – LangGraph is a low-level orchestration framework for building, managing, and deploying long-running, stateful agents. from langgraph.prebuilt import create_react_agent Or, to learn how to build an agent workflow with a customizable architecture, long-term memory, and other complex task handling, see the LangGraph basics tutorials. LangGraph provides low-level supporting infrastructure for _any_ long-running, stateful workflow or agent. While LangGraph can be used standalone, it also integrates seamlessly with any LangChain product, giving developers a full suite of tools for building agents. *   LangGraph Platform — Deploy and scale agents effortlessly with a purpose-built deployment platform for long running, stateful workflows.',\n",
       "   'score': 0.9202254,\n",
       "   'raw_content': None},\n",
       "  {'url': 'https://www.langchain.com/langgraph',\n",
       "   'title': 'LangGraph - LangChain',\n",
       "   'content': \"Design agent-driven user experiences with LangGraph Platform's APIs. Quickly deploy and scale your application with infrastructure built for agents. LangGraph sets the foundation for how we can build and scale AI workloads — from conversational agents, complex task automation, to custom LLM-backed experiences that 'just work'. The next chapter in building complex production-ready features with LLMs is agentic, and with LangGraph and LangSmith, LangChain delivers an out-of-the-box solution to iterate quickly, debug immediately, and scale effortlessly.” LangGraph sets the foundation for how we can build and scale AI workloads — from conversational agents, complex task automation, to custom LLM-backed experiences that 'just work'. LangGraph Platform is a service for deploying and scaling LangGraph applications, with an opinionated API for building agent UXs, plus an integrated developer studio.\",\n",
       "   'score': 0.82795376,\n",
       "   'raw_content': None},\n",
       "  {'url': 'https://medium.com/@cplog/introduction-to-langgraph-a-beginners-guide-14f9be027141',\n",
       "   'title': \"Introduction to LangGraph: A Beginner's Guide - Medium\",\n",
       "   'content': '*   **Stateful Graph:** LangGraph revolves around the concept of a stateful graph, where each node in the graph represents a step in your computation, and the graph maintains a state that is passed around and updated as the computation progresses. LangGraph supports conditional edges, allowing you to dynamically determine the next node to execute based on the current state of the graph. Image 10: Introduction to AI Agent with LangChain and LangGraph: A Beginner’s Guide Image 18: How to build LLM Agent with LangGraph\\u200a—\\u200aStateGraph and Reducer Image 20: Simplest Graphs using LangGraph Framework Image 24: Building a ReAct Agent with Langgraph: A Step-by-Step Guide Image 28: Building an Agentic RAG with LangGraph: A Step-by-Step Guide',\n",
       "   'score': 0.81524754,\n",
       "   'raw_content': None}],\n",
       " 'response_time': 1.66}"
      ]
     },
     "execution_count": 8,
     "metadata": {},
     "output_type": "execute_result"
    }
   ],
   "source": [
    "from langchain_tavily import TavilySearch\n",
    "\n",
    "tool=TavilySearch(max_result=2)\n",
    "tool.invoke(\"What is langgraph\")"
   ]
  },
  {
   "cell_type": "code",
   "execution_count": 9,
   "id": "7ef38bb4",
   "metadata": {},
   "outputs": [],
   "source": [
    "# Custom function \n",
    "def multiply(a:int, b:int) -> int:\n",
    "    \"\"\"Multiply a and b\n",
    "\n",
    "    Args:\n",
    "        a (int): first int\n",
    "        b (int): second int\n",
    "\n",
    "    Returns:\n",
    "        int: output int\n",
    "    \"\"\"\n",
    "    return a*b"
   ]
  },
  {
   "cell_type": "code",
   "execution_count": 10,
   "id": "272d94dc",
   "metadata": {},
   "outputs": [],
   "source": [
    "tools=[tool,multiply]"
   ]
  },
  {
   "cell_type": "code",
   "execution_count": 11,
   "id": "7442e60e",
   "metadata": {},
   "outputs": [],
   "source": [
    "llm_with_tool=llm.bind_tools(tools)"
   ]
  },
  {
   "cell_type": "code",
   "execution_count": 12,
   "id": "a8def9a9",
   "metadata": {},
   "outputs": [
    {
     "data": {
      "text/plain": [
       "RunnableBinding(bound=ChatGroq(client=<groq.resources.chat.completions.Completions object at 0x000001A9A16435E0>, async_client=<groq.resources.chat.completions.AsyncCompletions object at 0x000001A9A1A4EAA0>, model_name='llama-3.1-8b-instant', model_kwargs={}, groq_api_key=SecretStr('**********')), kwargs={'tools': [{'type': 'function', 'function': {'name': 'tavily_search', 'description': 'A search engine optimized for comprehensive, accurate, and trusted results. Useful for when you need to answer questions about current events. It not only retrieves URLs and snippets, but offers advanced search depths, domain management, time range filters, and image search, this tool delivers real-time, accurate, and citation-backed results.Input should be a search query.', 'parameters': {'properties': {'query': {'description': 'Search query to look up', 'type': 'string'}, 'include_domains': {'anyOf': [{'items': {'type': 'string'}, 'type': 'array'}, {'type': 'null'}], 'default': [], 'description': 'A list of domains to restrict search results to.\\n\\n        Use this parameter when:\\n        1. The user explicitly requests information from specific websites (e.g., \"Find climate data from nasa.gov\")\\n        2. The user mentions an organization or company without specifying the domain (e.g., \"Find information about iPhones from Apple\")\\n\\n        In both cases, you should determine the appropriate domains (e.g., [\"nasa.gov\"] or [\"apple.com\"]) and set this parameter.\\n\\n        Results will ONLY come from the specified domains - no other sources will be included.\\n        Default is None (no domain restriction).\\n        '}, 'exclude_domains': {'anyOf': [{'items': {'type': 'string'}, 'type': 'array'}, {'type': 'null'}], 'default': [], 'description': 'A list of domains to exclude from search results.\\n\\n        Use this parameter when:\\n        1. The user explicitly requests to avoid certain websites (e.g., \"Find information about climate change but not from twitter.com\")\\n        2. The user mentions not wanting results from specific organizations without naming the domain (e.g., \"Find phone reviews but nothing from Apple\")\\n\\n        In both cases, you should determine the appropriate domains to exclude (e.g., [\"twitter.com\"] or [\"apple.com\"]) and set this parameter.\\n\\n        Results will filter out all content from the specified domains.\\n        Default is None (no domain exclusion).\\n        '}, 'search_depth': {'anyOf': [{'enum': ['basic', 'advanced'], 'type': 'string'}, {'type': 'null'}], 'default': 'basic', 'description': 'Controls search thoroughness and result comprehensiveness.\\n    \\n        Use \"basic\" for simple queries requiring quick, straightforward answers.\\n        \\n        Use \"advanced\" (default) for complex queries, specialized topics, \\n        rare information, or when in-depth analysis is needed.\\n        '}, 'include_images': {'anyOf': [{'type': 'boolean'}, {'type': 'null'}], 'default': False, 'description': 'Determines if the search returns relevant images along with text results.\\n   \\n        Set to True when the user explicitly requests visuals or when images would \\n        significantly enhance understanding (e.g., \"Show me what black holes look like,\" \\n        \"Find pictures of Renaissance art\").\\n        \\n        Leave as False (default) for most informational queries where text is sufficient.\\n        '}, 'time_range': {'anyOf': [{'enum': ['day', 'week', 'month', 'year'], 'type': 'string'}, {'type': 'null'}], 'default': None, 'description': 'Limits results to content published within a specific timeframe.\\n        \\n        ONLY set this when the user explicitly mentions a time period \\n        (e.g., \"latest AI news,\" \"articles from last week\").\\n        \\n        For less popular or niche topics, use broader time ranges \\n        (\"month\" or \"year\") to ensure sufficient relevant results.\\n   \\n        Options: \"day\" (24h), \"week\" (7d), \"month\" (30d), \"year\" (365d).\\n        \\n        Default is None.\\n        '}, 'topic': {'anyOf': [{'enum': ['general', 'news', 'finance'], 'type': 'string'}, {'type': 'null'}], 'default': 'general', 'description': 'Specifies search category for optimized results.\\n   \\n        Use \"general\" (default) for most queries, INCLUDING those with terms like \\n        \"latest,\" \"newest,\" or \"recent\" when referring to general information.\\n\\n        Use \"finance\" for markets, investments, economic data, or financial news.\\n\\n        Use \"news\" ONLY for politics, sports, or major current events covered by \\n        mainstream media - NOT simply because a query asks for \"new\" information.\\n        '}, 'include_favicon': {'anyOf': [{'type': 'boolean'}, {'type': 'null'}], 'default': False, 'description': 'Whether to include the favicon URL for each result.'}}, 'required': ['query'], 'type': 'object'}}}, {'type': 'function', 'function': {'name': 'multiply', 'description': 'Multiply a and b', 'parameters': {'properties': {'a': {'description': 'first int', 'type': 'integer'}, 'b': {'description': 'second int', 'type': 'integer'}}, 'required': ['a', 'b'], 'type': 'object'}}}]}, config={}, config_factories=[])"
      ]
     },
     "execution_count": 12,
     "metadata": {},
     "output_type": "execute_result"
    }
   ],
   "source": [
    "llm_with_tool"
   ]
  },
  {
   "cell_type": "code",
   "execution_count": 13,
   "id": "b7c449be",
   "metadata": {},
   "outputs": [
    {
     "data": {
      "image/png": "[encoded data removed]",
      "text/plain": [
       "<IPython.core.display.Image object>"
      ]
     },
     "metadata": {},
     "output_type": "display_data"
    }
   ],
   "source": [
    "from langgraph.graph import StateGraph, START, END\n",
    "from langgraph.prebuilt import ToolNode\n",
    "from langgraph.prebuilt import tools_condition\n",
    "from IPython.display import Image, display\n",
    "\n",
    "# Define node\n",
    "def tool_calling_llm(state: State):\n",
    "    return {\"messages\": [llm_with_tool.invoke(state[\"messages\"])]}\n",
    "\n",
    "# Build the graph\n",
    "builder = StateGraph(State)\n",
    "builder.add_node(\"tool_calling_llm\", tool_calling_llm)\n",
    "builder.add_node(\"tools\", ToolNode(tools))\n",
    "\n",
    "# Add edges\n",
    "builder.add_edge(START, \"tool_calling_llm\")  # fixed typo\n",
    "builder.add_conditional_edges(\n",
    "    \"tool_calling_llm\",\n",
    "    tools_condition\n",
    ")\n",
    "builder.add_edge(\"tools\", END)\n",
    "\n",
    "# Compile\n",
    "graph = builder.compile()\n",
    "\n",
    "# Display graph\n",
    "display(Image(graph.get_graph().draw_mermaid_png()))  # fixed method call"
   ]
  },
  {
   "cell_type": "code",
   "execution_count": 14,
   "id": "37e7cf9f",
   "metadata": {},
   "outputs": [],
   "source": [
    "response=graph.invoke({\"messages\":\"What is the recent AI News\"})"
   ]
  },
  {
   "cell_type": "code",
   "execution_count": 15,
   "id": "31af82f4",
   "metadata": {},
   "outputs": [
    {
     "data": {
      "text/plain": [
       "'<function=tavily_search>{\"query\": \"recent AI news\", \"search_depth\": \"advanced\", \"topic\": \"news\"}'"
      ]
     },
     "execution_count": 15,
     "metadata": {},
     "output_type": "execute_result"
    }
   ],
   "source": [
    "response['messages'][-1].content"
   ]
  },
  {
   "cell_type": "code",
   "execution_count": 16,
   "id": "4e5b9800",
   "metadata": {},
   "outputs": [
    {
     "name": "stdout",
     "output_type": "stream",
     "text": [
      "================================\u001b[1m Human Message \u001b[0m=================================\n",
      "\n",
      "What is the recent AI News\n",
      "==================================\u001b[1m Ai Message \u001b[0m==================================\n",
      "\n",
      "<function=tavily_search>{\"query\": \"recent AI news\", \"search_depth\": \"advanced\", \"topic\": \"news\"}\n"
     ]
    }
   ],
   "source": [
    "for m in response['messages']:\n",
    "    m.pretty_print()"
   ]
  },
  {
   "cell_type": "code",
   "execution_count": 17,
   "id": "b1b7b557",
   "metadata": {},
   "outputs": [
    {
     "name": "stdout",
     "output_type": "stream",
     "text": [
      "================================\u001b[1m Human Message \u001b[0m=================================\n",
      "\n",
      "What is 5 multiplie by 3\n",
      "==================================\u001b[1m Ai Message \u001b[0m==================================\n",
      "Tool Calls:\n",
      "  multiply (sx1tdsbba)\n",
      " Call ID: sx1tdsbba\n",
      "  Args:\n",
      "    a: 5\n",
      "    b: 3\n",
      "=================================\u001b[1m Tool Message \u001b[0m=================================\n",
      "Name: multiply\n",
      "\n",
      "15\n"
     ]
    }
   ],
   "source": [
    "response=graph.invoke({\"messages\":\"What is 5 multiplie by 3\"})\n",
    "for m in response['messages']:\n",
    "    m.pretty_print()"
   ]
  },
  {
   "cell_type": "code",
   "execution_count": 18,
   "id": "9ab7832f",
   "metadata": {},
   "outputs": [
    {
     "name": "stdout",
     "output_type": "stream",
     "text": [
      "================================\u001b[1m Human Message \u001b[0m=================================\n",
      "\n",
      "Give me the recent AI News then multiply 5 and 10\n",
      "==================================\u001b[1m Ai Message \u001b[0m==================================\n",
      "Tool Calls:\n",
      "  tavily_search (pxbnexcc7)\n",
      " Call ID: pxbnexcc7\n",
      "  Args:\n",
      "    exclude_domains: None\n",
      "    include_domains: None\n",
      "    include_favicon: True\n",
      "    include_images: True\n",
      "    query: latest AI news\n",
      "    search_depth: advanced\n",
      "    time_range: day\n",
      "    topic: news\n",
      "  multiply (nah8eg42f)\n",
      " Call ID: nah8eg42f\n",
      "  Args:\n",
      "    a: 5\n",
      "    b: 10\n",
      "=================================\u001b[1m Tool Message \u001b[0m=================================\n",
      "Name: tavily_search\n",
      "\n",
      "{\"query\": \"latest AI news\", \"follow_up_questions\": null, \"answer\": null, \"images\": [\"https://www.edge-ai-vision.com/wp-content/uploads/2025/07/bz6Yw_q7WJM.jpg\", \"https://theaitrack.com/wp-content/uploads/elementor/thumbs/Reading-AI-News-August-2025-Image-generated-by-Midjourney-for-The-AI-Track-r63k3v27utg73k2aic8m1iobkob3b5q70vxdvqda74.jpg\", \"https://news.ssbcrack.com/wp-content/uploads/2025/07/Samsung-Unveils-New-AI-Features-and-Enhanced-Security-with-Knox-1024x576.jpg\", \"https://news4sanantonio.com/resources/media2/16x9/6750/1320/1x84/90/6ac9648c-ed59-4204-9d6f-6fbc905dc54a-GettyImages2203694324.jpg\", \"https://img.etimg.com/thumb/msid-122284166,width-300,height-225,imgsize-91636,resizemode-75/the-coder-village-at-heart-of-chinas-latest-ai-frenzy.jpg\"], \"results\": [{\"url\": \"https://opentools.ai/news/elon-musks-grok-4-a-new-player-in-the-ai-intelligence-arena\", \"title\": \"Elon Musk's Grok 4: A New Player in the AI Intelligence Arena - OpenTools\", \"score\": 0.756376, \"published_date\": \"Sat, 12 Jul 2025 01:02:59 GMT\", \"content\": \"Published Time: 2025-07-12T01:02:45.505Z\\n\\nNews Not Found | AI News\\n\\n===============\\n\\nOpenToolsImage 1: logo\\n\\nOpen main menu\\n\\nNewsletterNewsSubmit A ToolAdvertise\\n\\nCategories\\n\\nGet started\\n\\nLearn to use AI like a Pro. Learn More\\n\\nOpenToolsImage 2: logo\\n\\nOpen main menu\\n\\nNewsletterNewsSubmit A ToolAdvertise\\n\\nCategories\\n\\nGet started\\n\\nLearn to use AI like a Pro. Learn More\\n\\n1.   home\\n2.   news\\n3.   elon-musks-grok-4-a-new-player-in-the-ai-intelligence-arena\\n\\nAI Revolution: Grok 4 Takes the Stage [...] [[Feb 19, 2025] Elon Musk's xAI Unleashes Grok 3: A Quantum Leap in AI Innovation](\\n   [[Jul 11, 2025] Musk Launches Grok 4: xAI's New AI Model Outshines OpenAI and Google](\\n   [[Feb 18, 2025] Elon Musk's xAI Unveils Grok 3: Aiming to Lead AI Innovation](\\n   [[Feb 18, 2025] Elon Musk's xAI Unleashes Grok-3: The Newest Rival in AI Benchmarking]( [...] [[Feb 18, 2025] Elon Musk's xAI Unveils Grok 3: A Game-Changer in AI Innovation!](\\n   [[Feb 16, 2025] Elon Musk's Grok 3: The World's Smartest AI is Launching Soon](\\n   [[Jul 11, 2025] Grok-4: xAI's AI Trailblazer Outsmarts OpenAI and Google!](\\n   [[Apr 30, 2025] Elon Musk Unveils Grok 3.5: An AI Model to Outthink All](\\n   [[Feb 19, 2025] Elon Musk Unveils Grok-3: An AI Powerhouse Taking on ChatGPT!](\\n   [[Jul 10, 2025] Elon Musk's xAI Launches Grok 4 Amid Controversy!](\", \"raw_content\": null, \"favicon\": \"https://opentools.ai/favicon.ico\"}, {\"url\": \"https://opentools.ai/news/elon-musks-xai-shoots-for-the-stars-with-ambitious-dollar200-billion-valuation\", \"title\": \"Elon Musk's xAI Shoots for the Stars with Ambitious $200 Billion Valuation - OpenTools\", \"score\": 0.67192334, \"published_date\": \"Sat, 12 Jul 2025 01:08:01 GMT\", \"content\": \"[[Dec 6, 2024] Elon Musk's xAI Secures $6 Billion to Challenge AI Giants with 'Rebellious' Grok: A Leap into the Future of AI!](\\n   [[Jun 18, 2025] Elon Musk's xAI Eyes $4.3 Billion Equity Boost: A High-Stakes AI Adventure!](\\n   [[Dec 26, 2024] Elon Musk's xAI Rockets to New Heights with $6 Billion Series C Funding](\\n   [[Mar 29, 2025] Elon Musk's xAI Gobbles Up X in a Record-Breaking $113 Billion AI Gamble](\\n   [[Jun 18, 2025] Elon Musk's xAI: A Billion-Dollar Burn or Future AI Beast?]( [...] [[Apr 22, 2025] Elon Musk's AI Brainchild xAI Eyes $1 Billion Revenue, Plans Major Capital Raise](\\n   [[Jul 12, 2025] Elon Musk's xAI Shoots for the Stars with Ambitious $200 Billion Valuation](\\n   [[Apr 28, 2025] Elon Musk's xAI Seeks $20 Billion to Power AI Dreams and Conquer Debts](\\n   [[Dec 24, 2024] Elon Musk's xAI Rockets to $12 Billion in Funding—Aiming for a Stellar $50 Billion Valuation!]( [...] Published Time: 2025-07-12T01:05:31.811Z\\n\\nElon Musk's xAI Shoots for the Stars with Ambitious $200 Billion Valuation | AI News\\n\\n===============\\n\\nOpenToolsImage 1: logo\\n\\nOpen main menu\\n\\nNewsletterNewsSubmit A ToolAdvertise\\n\\nCategories\\n\\nGet started\\n\\nLearn to use AI like a Pro. Learn More\\n\\nOpenToolsImage 2: logo\\n\\nOpen main menu\\n\\nNewsletterNewsSubmit A ToolAdvertise\\n\\nCategories\\n\\nGet started\\n\\nLearn to use AI like a Pro. Learn More\", \"raw_content\": null, \"favicon\": \"https://opentools.ai/favicon.ico\"}, {\"url\": \"https://fortune.com/2025/07/11/marc-benioff-ai-salesforce-transformation-workforce-redeployment-hiring/\", \"title\": \"Marc Benioff says AI is radically reshaping Salesforce, and 51% of Q1 hiring was internal as thousands of employees were redeployed - Fortune\", \"score\": 0.64639384, \"published_date\": \"Fri, 11 Jul 2025 18:42:00 GMT\", \"content\": \"BYJason Ma July 5, 2025    \\n   Image 13AI \\nAI could unleash ‘deep societal upheavals’ that many elites are ignoring, Palantir CEO Alex Karp warns\\n-------------------------------------------------------------------------------------------------------------------------------------------------------------------------------------------------------------------------------------------- [...] BYMarco Quiroz-Gutierrez December 12, 2024    \\n   Image 16Tech \\nExclusive: Marc Benioff has declared a ‘hard pivot’ to autonomous AI agents. Will it be enough for Salesforce to thrive in the generative AI era?\\n----------------------------------------------------------------------------------------------------------------------------------------------------------------------------------------------------------------------------------------------------------------------------------- [...] BYJason Ma June 7, 2025    \\n   Image 14AI \\nAmazon CEO Andy Jassy says AI will probably mean fewer jobs after 27,000 people have already been cut from its workforce\\n-----------------------------------------------------------------------------------------------------------------------------------------------------------------------------------------------------------------------\", \"raw_content\": null, \"favicon\": \"https://fortune.com/icons/favicons/favicon.ico\"}, {\"url\": \"https://gizmodo.com/as-zuck-races-to-build-godlike-ai-women-and-people-of-color-arent-invited-2000628303\", \"title\": \"As Zuck Races to Build Godlike AI, Women and People of Color Aren’t Invited - Gizmodo\", \"score\": 0.58721006, \"published_date\": \"Fri, 11 Jul 2025 20:00:39 GMT\", \"content\": \"Image 8: Sam Altman speaks at a conferenceTech News Artificial Intelligence The Hidden Cost of OpenAI’s Genius ---------------------------------- The creator of ChatGPT is handing out stock packages that exceed its total revenue, a high-stakes gamble to keep its engineers from defecting to rivals like Meta. By Luc Olinga Published July 8, 2025 [...] Image 6: Sam Altman Co-founder and CEO of OpenAI speaks during the Italian Tech Week 2024 at OGR Officine Grandi Riparazioni on September 25, 2024 in Turin, Italy.Tech News Artificial Intelligence OpenAI Is Trying to Reset ------------------------- The company behind ChatGPT tries to regain its footing as the talent war heats up. By Luc Olinga Published July 9, 2025 [...] Image 9: Tim Cook Iphone 16 Apple Intelligence 2Tech News Artificial Intelligence Apple Reportedly Loses Key AI Mind ---------------------------------- The iPhone maker’s quiet AI ambitions just took a major hit as Meta doubles down on its war with OpenAI and Google. By Luc Olinga Published July 7, 2025\", \"raw_content\": null, \"favicon\": \"https://gizmodo.com/favicon.svg\"}, {\"url\": \"https://www.startupecosystem.ca/news/helios-aims-to-revolutionize-public-policy-with-ai-operating-system/\", \"title\": \"Helios Aims to Revolutionize Public Policy with AI Operating System - Startup Ecosystem Canada\", \"score\": 0.5826579, \"published_date\": \"Fri, 11 Jul 2025 20:51:24 GMT\", \"content\": \"acquisitionAI developmentAI infrastructureAI innovationAI integrationAI investmentAI modelsAI technologyAmazonAnthropicAppleArtificial IntelligenceAutonomous vehiclesCanada founder newsCanada startup newscryptocurrencyCybersecurityDeepSeekElectric VehiclesElon MuskentrepreneurshipfintechFunding roundGenerative AIGlobal founder newsGlobal startup newshealthcare innovationInnovationinvestmentIPOMetaMicrosoftNvidiaOntario founder newsOntario startup newsOpenAISam AltmanSeed fundingSeries A [...] ### GM Ends Cruise Robotaxi Program to Save $1 Billion Annually\\n\\nImage 10: Startup Eco System\\n\\nStartup Eco System28 January 2025\\n\\n5 months ago Image 11: DeepSeek Founder Liang Wenfeng Celebrated in China for AI BreakthroughGlobalDeepSeek Founder Liang Wenfeng Celebrated in China for AI Breakthrough\\n\\n### DeepSeek Founder Liang Wenfeng Celebrated in China for AI Breakthrough\\n\\nImage 12: Startup Eco System\\n\\nStartup Eco System3 February 2025\\n\\nImage 13 [...] #### Tags:\\n\\nAI operating systemGlobal startup newsPublic PolicyRegulatory affairsSeed funding\\n\\nStory Coverage\\n--------------\\n\\nImage 4: Brand Logotechcrunch.com\\n\\n#### Helios wants to be the AI operating system for public policy professionals\\n\\nRead Full Article →\\n\\n### Stay in the know\\n\\nExplore valuable insights and practical tips through our curated News\\n\\nEnter Your Email(Required) \\n\\nPhone \\n\\nThis field is for validation purposes and should be left unchanged.\\n\\n#### Explore by Category\", \"raw_content\": null, \"favicon\": \"https://www.startupecosystem.ca/wp-content/uploads/2024/04/cropped-cropped-img-favicon-32x32.png\"}], \"response_time\": 3.2}\n",
      "=================================\u001b[1m Tool Message \u001b[0m=================================\n",
      "Name: multiply\n",
      "\n",
      "50\n"
     ]
    }
   ],
   "source": [
    "response=graph.invoke({\"messages\":\"Give me the recent AI News then multiply 5 and 10\"})\n",
    "for m in response['messages']:\n",
    "    m.pretty_print()"
   ]
  },
  {
   "cell_type": "markdown",
   "id": "62e18f3d",
   "metadata": {},
   "source": [
    "### ReAct Agent Architecture"
   ]
  },
  {
   "cell_type": "code",
   "execution_count": 19,
   "id": "ba38b8aa",
   "metadata": {},
   "outputs": [
    {
     "data": {
      "image/png": "[encoded data removed]",
      "text/plain": [
       "<IPython.core.display.Image object>"
      ]
     },
     "metadata": {},
     "output_type": "display_data"
    }
   ],
   "source": [
    "from langgraph.graph import StateGraph, START, END\n",
    "from langgraph.prebuilt import ToolNode\n",
    "from langgraph.prebuilt import tools_condition\n",
    "from IPython.display import Image, display\n",
    "\n",
    "# Define node\n",
    "def tool_calling_llm(state: State):\n",
    "    return {\"messages\": [llm_with_tool.invoke(state[\"messages\"])]}\n",
    "\n",
    "# Build the graph\n",
    "builder = StateGraph(State)\n",
    "builder.add_node(\"tool_calling_llm\", tool_calling_llm)\n",
    "builder.add_node(\"tools\", ToolNode(tools))\n",
    "\n",
    "# Add edges\n",
    "builder.add_edge(START, \"tool_calling_llm\")  # fixed typo\n",
    "builder.add_conditional_edges(\n",
    "    \"tool_calling_llm\",\n",
    "    tools_condition\n",
    ")\n",
    "builder.add_edge(\"tools\", \"tool_calling_llm\")\n",
    "\n",
    "# Compile\n",
    "graph = builder.compile()\n",
    "\n",
    "# Display graph\n",
    "display(Image(graph.get_graph().draw_mermaid_png()))  # fixed method call"
   ]
  },
  {
   "cell_type": "code",
   "execution_count": 20,
   "id": "c700e2ef",
   "metadata": {},
   "outputs": [
    {
     "name": "stdout",
     "output_type": "stream",
     "text": [
      "================================\u001b[1m Human Message \u001b[0m=================================\n",
      "\n",
      "Give me the recent AI News then multiply 5 and 10\n",
      "==================================\u001b[1m Ai Message \u001b[0m==================================\n",
      "Tool Calls:\n",
      "  tavily_search (w432vg7mr)\n",
      " Call ID: w432vg7mr\n",
      "  Args:\n",
      "    query: AI news\n",
      "    time_range: day\n",
      "    topic: news\n",
      "  multiply (zhjb8g0jz)\n",
      " Call ID: zhjb8g0jz\n",
      "  Args:\n",
      "    a: 5\n",
      "    b: 10\n",
      "=================================\u001b[1m Tool Message \u001b[0m=================================\n",
      "Name: tavily_search\n",
      "\n",
      "{\"query\": \"AI news\", \"follow_up_questions\": null, \"answer\": null, \"images\": [], \"results\": [{\"url\": \"https://opentools.ai/news/elon-musks-xai-shoots-for-the-stars-with-ambitious-dollar200-billion-valuation\", \"title\": \"Elon Musk's xAI Shoots for the Stars with Ambitious $200 Billion Valuation - OpenTools\", \"score\": 0.6778372, \"published_date\": \"Sat, 12 Jul 2025 01:08:01 GMT\", \"content\": \"Elon Musk's xAI Shoots for the Stars with Ambitious $200 Billion Valuation | AI News Elon Musk's AI venture, xAI, is raising eyebrows with its bold aim to achieve a $200 billion valuation in its next fundraising round. The potential implications of a $200 billion valuation for Elon Musk's xAI are vast and varied, impacting the AI industry significantly. *   [[Jul 12, 2025] Elon Musk's xAI Shoots for the Stars with Ambitious $200 Billion Valuation](https://opentools.ai/news/elon-musks-xai-shoots-for-the-stars-with-ambitious-dollar200-billion-valuation) *   [[Dec 24, 2024] Elon Musk's xAI Rockets to $12 Billion in Funding—Aiming for a Stellar $50 Billion Valuation!](https://opentools.ai/news/elon-musks-xai-rockets-to-dollar12-billion-in-fundingaiming-for-a-stellar-dollar50-billion-valuation) *   [[Mar 30, 2025] Elon Musk's xAI Explodes to $80 Billion Valuation: A Seamless Merge with X!](https://opentools.ai/news/elon-musks-xai-explodes-to-dollar80-billion-valuation-a-seamless-merge-with-x) *   [[Jun 3, 2025] Elon Musk's xAI Aims for $300M in Tender Offer Amid Bold $113 Billion Valuation!](https://opentools.ai/news/elon-musks-xai-aims-for-dollar300m-in-tender-offer-amid-bold-dollar113-billion-valuation)\", \"raw_content\": null}, {\"url\": \"https://opentools.ai/news/elon-musk-the-salute-sparking-a-storm-and-groks-controversial-comments\", \"title\": \"Elon Musk: The Salute Sparking a Storm and Grok’s Controversial Comments - OpenTools\", \"score\": 0.63125396, \"published_date\": \"Sat, 12 Jul 2025 01:19:50 GMT\", \"content\": \"Elon Musk: The Salute Sparking a Storm and Grok’s Controversial Comments | AI News Parallel to Musk's controversial gestures, his AI chatbot Grok stirred the pot by generating pro-Nazi statements. The gesture, combined with related controversies, including recent events involving Musk's AI, Grok, adds layers to the ongoing narrative about the ethical responsibilities of influential tech leaders. Elon Musk's association with controversial AI practices might impact the public perception of his ventures, potentially affecting investor confidence and market reception of his companies like SpaceX and Tesla. In reflecting on Elon Musk's controversial gesture and Grok's troubling pro-Nazi remarks, it is essential to consider the broader implications on technology and society.\", \"raw_content\": null}, {\"url\": \"https://gizmodo.com/as-zuck-races-to-build-godlike-ai-women-and-people-of-color-arent-invited-2000628303\", \"title\": \"As Zuck Races to Build Godlike AI, Women and People of Color Aren’t Invited - Gizmodo\", \"score\": 0.53619206, \"published_date\": \"Fri, 11 Jul 2025 20:00:39 GMT\", \"content\": \"Mark Zuckerberg has a new mission: build artificial general intelligence (AGI), a form of AI that can reason and learn like a human.To do that, he’s assembled an elite team of researchers, engineers, and AI veterans from OpenAI, Google, Anthropic, Apple, and more. *   Image 4: Mark Zuckerberg wearing smart glasses.Tech News Gadgets Meta’s Obsession With AI Will Make Smart Glasses Finally Click -------------------------------------------------------------- Forget video generators and AI slop; smart glasses are the place I want to see AI end up. *   Image 9: Tim Cook Iphone 16 Apple Intelligence 2Tech News Artificial Intelligence Apple Reportedly Loses Key AI Mind ---------------------------------- The iPhone maker’s quiet AI ambitions just took a major hit as Meta doubles down on its war with OpenAI and Google.\", \"raw_content\": null}, {\"url\": \"https://opentools.ai/news/elon-musks-grok-4-a-new-player-in-the-ai-intelligence-arena\", \"title\": \"Elon Musk's Grok 4: A New Player in the AI Intelligence Arena - OpenTools\", \"score\": 0.46701634, \"published_date\": \"Sat, 12 Jul 2025 01:02:59 GMT\", \"content\": \"xAI's Grok 4 claims the title of the 'world's smartest AI,' boasting impressive scores on the Humanity's Last Exam and setting new benchmarks in AI performance. Image 4: Banner for Elon Musk's Grok 4: A New Player in the AI Intelligence Arena Among these, the launch of xAI's Grok 4 stands out, as it claims the title of the \\\"world's smartest AI.\\\" This claim is built on its impressive scores on standardized tests and the notably challenging Humanity's Last Exam (HLE). *   [[Feb 18, 2025] Elon Musk's xAI Unveils Grok 3: A Game-Changer in AI Innovation!](https://opentools.ai/news/elon-musks-xai-unveils-grok-3-a-game-changer-in-ai-innovation) *   [[Jul 10, 2025] Elon Musk's xAI Launches Grok 4 Amid Controversy!](https://opentools.ai/news/elon-musks-xai-launches-grok-4-amid-controversy) *   [[Feb 18, 2025] Elon Musk's xAI Unveils Grok 3: Aiming to Lead AI Innovation](https://opentools.ai/news/elon-musks-xai-unveils-grok-3-aiming-to-lead-ai-innovation)\", \"raw_content\": null}, {\"url\": \"https://www.sammobile.com/news/why-i-am-already-using-one-ui-8-on-my-main-phone/\", \"title\": \"Why I'm already using One UI 8 on my main phone - SamMobile\", \"score\": 0.36039954, \"published_date\": \"Fri, 11 Jul 2025 20:15:00 GMT\", \"content\": \"*   Phone Image 2 ### Samsung chip team unsure if MX will buy Exynos 2600 for Galaxy S26 14 hours ago *   Phone Image 5 ### Samsung confirms which Galaxy AI features will remain free forever 15 hours ago *   Galaxy AI news Image 9 ### Galaxy AI users are on the rise and Samsung has big plans 1 day ago *   Phone Image 10 ### Samsung UK gives Galaxy Z Fold 7 and Flip 7 buyers a 100-day return policy 1 day ago *   Image 15: galaxy s25 plus review – sammobile Samsung Galaxy S25+ review: Nails the big phone basics *   Image 17: galaxy s25 review Samsung Galaxy S25 review *   Image 18: galaxy s25 ultra home screen Samsung Galaxy S25 Ultra review *   Samsung Galaxy S25 review\", \"raw_content\": null}], \"response_time\": 0.78}\n",
      "=================================\u001b[1m Tool Message \u001b[0m=================================\n",
      "Name: multiply\n",
      "\n",
      "50\n",
      "==================================\u001b[1m Ai Message \u001b[0m==================================\n",
      "Tool Calls:\n",
      "  multiply (c4q5yyke7)\n",
      " Call ID: c4q5yyke7\n",
      "  Args:\n",
      "    a: 5\n",
      "    b: 10\n",
      "=================================\u001b[1m Tool Message \u001b[0m=================================\n",
      "Name: multiply\n",
      "\n",
      "50\n",
      "==================================\u001b[1m Ai Message \u001b[0m==================================\n",
      "\n",
      "The results show recent AI news, but they also show articles from other categories, such as tech news and Samsung phone reviews. The AI news articles include information about Elon Musk's AI venture, xAI, and its ambitious valuation goals, as well as controversy surrounding his AI chatbot, Grok. The results also include a Gizmodo article about Mark Zuckerberg's efforts to build artificial general intelligence (AGI) and the exclusion of women and people of color from his team.\n"
     ]
    }
   ],
   "source": [
    "response=graph.invoke({\"messages\":\"Give me the recent AI News then multiply 5 and 10\"})\n",
    "for m in response['messages']:\n",
    "    m.pretty_print()"
   ]
  },
  {
   "cell_type": "markdown",
   "id": "42d46600",
   "metadata": {},
   "source": [
    "### Adding memory in the Agentic Graph"
   ]
  },
  {
   "cell_type": "code",
   "execution_count": null,
   "id": "0ea9d8b6",
   "metadata": {},
   "outputs": [
    {
     "name": "stdout",
     "output_type": "stream",
     "text": [
      "================================\u001b[1m Human Message \u001b[0m=================================\n",
      "\n",
      "GHello my name is Krish\n",
      "==================================\u001b[1m Ai Message \u001b[0m==================================\n",
      "\n",
      "Hello Krish, it's nice to meet you. Is there anything I can help you with today?\n"
     ]
    }
   ],
   "source": [
    "response=graph.invoke({\"messages\":\"Hello my name is Krish\"})\n",
    "for m in response['messages']:\n",
    "    m.pretty_print()"
   ]
  },
  {
   "cell_type": "code",
   "execution_count": 22,
   "id": "61a11f04",
   "metadata": {},
   "outputs": [
    {
     "name": "stdout",
     "output_type": "stream",
     "text": [
      "================================\u001b[1m Human Message \u001b[0m=================================\n",
      "\n",
      "What is my name?\n",
      "==================================\u001b[1m Ai Message \u001b[0m==================================\n",
      "\n",
      "I don't know your name as I don't have any information about you. I'm happy to chat with you, though!\n"
     ]
    }
   ],
   "source": [
    "response=graph.invoke({\"messages\":\"What is my name?\"})\n",
    "for m in response['messages']:\n",
    "    m.pretty_print()"
   ]
  },
  {
   "cell_type": "code",
   "execution_count": 23,
   "id": "ea371644",
   "metadata": {},
   "outputs": [
    {
     "data": {
      "image/png": "[encoded data removed]",
      "text/plain": [
       "<IPython.core.display.Image object>"
      ]
     },
     "metadata": {},
     "output_type": "display_data"
    }
   ],
   "source": [
    "from langgraph.graph import StateGraph, START, END\n",
    "from langgraph.prebuilt import ToolNode\n",
    "from langgraph.prebuilt import tools_condition\n",
    "from IPython.display import Image, display\n",
    "from langgraph.checkpoint.memory import MemorySaver\n",
    "\n",
    "memory=MemorySaver()\n",
    "\n",
    "# Define node\n",
    "def tool_calling_llm(state: State):\n",
    "    return {\"messages\": [llm_with_tool.invoke(state[\"messages\"])]}\n",
    "\n",
    "# Build the graph\n",
    "builder = StateGraph(State)\n",
    "builder.add_node(\"tool_calling_llm\", tool_calling_llm)\n",
    "builder.add_node(\"tools\", ToolNode(tools))\n",
    "\n",
    "# Add edges\n",
    "builder.add_edge(START, \"tool_calling_llm\")  # fixed typo\n",
    "builder.add_conditional_edges(\n",
    "    \"tool_calling_llm\",\n",
    "    tools_condition\n",
    ")\n",
    "builder.add_edge(\"tools\", \"tool_calling_llm\")\n",
    "\n",
    "# Compile\n",
    "graph = builder.compile(checkpointer=memory)\n",
    "\n",
    "# Display graph\n",
    "display(Image(graph.get_graph().draw_mermaid_png()))  # fixed method call"
   ]
  },
  {
   "cell_type": "code",
   "execution_count": 24,
   "id": "d4811730",
   "metadata": {},
   "outputs": [
    {
     "data": {
      "text/plain": [
       "{'messages': [HumanMessage(content='Hi my name is Krish', additional_kwargs={}, response_metadata={}, id='6373a11d-ed21-4de8-aeb2-a0e8b873cb52'),\n",
       "  AIMessage(content=\"It's nice to meet you Krish. Is there something I can help you with today?\", additional_kwargs={}, response_metadata={'token_usage': {'completion_tokens': 19, 'prompt_tokens': 1280, 'total_tokens': 1299, 'completion_time': 0.032875896, 'prompt_time': 0.079540484, 'queue_time': 0.05373149600000002, 'total_time': 0.11241638}, 'model_name': 'llama-3.1-8b-instant', 'system_fingerprint': 'fp_8ab2e50475', 'finish_reason': 'stop', 'logprobs': None}, id='run--052f5787-8cfb-48d5-b02a-f89cfda4857c-0', usage_metadata={'input_tokens': 1280, 'output_tokens': 19, 'total_tokens': 1299})]}"
      ]
     },
     "execution_count": 24,
     "metadata": {},
     "output_type": "execute_result"
    }
   ],
   "source": [
    "config={\"configurable\":{\"thread_id\":\"1\"}}\n",
    "\n",
    "response=graph.invoke({\"messages\":\"Hi my name is Krish\"},config=config)\n",
    "\n",
    "response"
   ]
  },
  {
   "cell_type": "code",
   "execution_count": 25,
   "id": "af5b2266",
   "metadata": {},
   "outputs": [
    {
     "data": {
      "text/plain": [
       "\"It's nice to meet you Krish. Is there something I can help you with today?\""
      ]
     },
     "execution_count": 25,
     "metadata": {},
     "output_type": "execute_result"
    }
   ],
   "source": [
    "response['messages'][-1].content"
   ]
  },
  {
   "cell_type": "code",
   "execution_count": 28,
   "id": "c7920fa3",
   "metadata": {},
   "outputs": [
    {
     "data": {
      "text/plain": [
       "'Your name is Krish. I remember that from our previous conversation.'"
      ]
     },
     "execution_count": 28,
     "metadata": {},
     "output_type": "execute_result"
    }
   ],
   "source": [
    "response=graph.invoke({\"messages\":\"Hey do u remember my name??\"},config=config)\n",
    "\n",
    "response['messages'][-1].content"
   ]
  },
  {
   "cell_type": "markdown",
   "id": "85570363",
   "metadata": {},
   "source": [
    "### Streaming"
   ]
  },
  {
   "cell_type": "code",
   "execution_count": 29,
   "id": "46b87dc1",
   "metadata": {},
   "outputs": [],
   "source": [
    "from langgraph.checkpoint.memory import MemorySaver\n",
    "memory=MemorySaver()"
   ]
  },
  {
   "cell_type": "code",
   "execution_count": 30,
   "id": "1f20eed5",
   "metadata": {},
   "outputs": [],
   "source": [
    "def superbot(state:State):\n",
    "    return {\"messages\":[llm.invoke(state[\"messages\"])]}"
   ]
  },
  {
   "cell_type": "code",
   "execution_count": 31,
   "id": "7a91d694",
   "metadata": {},
   "outputs": [
    {
     "data": {
      "image/png": "[encoded data removed]",
      "text/plain": [
       "<IPython.core.display.Image object>"
      ]
     },
     "metadata": {},
     "output_type": "display_data"
    }
   ],
   "source": [
    "graph=StateGraph(State)\n",
    "\n",
    "graph.add_node(\"Superbot\",superbot)\n",
    "\n",
    "graph.add_edge(START,\"Superbot\")\n",
    "graph.add_edge(\"Superbot\",END)\n",
    "\n",
    "graph_builder=graph.compile(checkpointer=memory)\n",
    "\n",
    "from IPython.display import Image,display\n",
    "display(Image(graph_builder.get_graph().draw_mermaid_png()))"
   ]
  },
  {
   "cell_type": "code",
   "execution_count": 35,
   "id": "74da4955",
   "metadata": {},
   "outputs": [
    {
     "name": "stdout",
     "output_type": "stream",
     "text": [
      "{'Superbot': {'messages': [AIMessage(content=\"Hello Ava, nice to meet you. CS2, or Counter-Strike 2, is a popular first-person shooter game. It's known for its competitive multiplayer mode and requires a mix of strategy and quick reflexes. What's your role of choice in CS2 - do you prefer playing as an entry fragger, support, or something else?\", additional_kwargs={}, response_metadata={'token_usage': {'completion_tokens': 72, 'prompt_tokens': 52, 'total_tokens': 124, 'completion_time': 0.143367444, 'prompt_time': 0.003292574, 'queue_time': 0.049968317, 'total_time': 0.146660018}, 'model_name': 'llama-3.1-8b-instant', 'system_fingerprint': 'fp_510c177af0', 'finish_reason': 'stop', 'logprobs': None}, id='run--e7e1b588-44d0-4938-a415-92cc28821b62-0', usage_metadata={'input_tokens': 52, 'output_tokens': 72, 'total_tokens': 124})]}}\n"
     ]
    }
   ],
   "source": [
    "config={\"configurable\":{\"thread_id\":\"3\"}}\n",
    "\n",
    "for chunk in graph_builder.stream({\"messages\":\"Hi my name is Ava and I like gaming. My favourite game is CS2.\"},config=config,stream_mode=\"updates\"):\n",
    "    print(chunk)\n"
   ]
  },
  {
   "cell_type": "code",
   "execution_count": 37,
   "id": "4a440349",
   "metadata": {},
   "outputs": [
    {
     "name": "stdout",
     "output_type": "stream",
     "text": [
      "{'messages': [HumanMessage(content='Hi my name is Ava and I like gaming. My favourite game is CS2.', additional_kwargs={}, response_metadata={}, id='09ee0bb1-acd5-48a9-905b-efcd921047ba'), AIMessage(content=\"Hello Ava, nice to meet you. CS2, or Counter-Strike 2, is a popular first-person shooter game. It's known for its competitive multiplayer mode and requires a mix of strategy and quick reflexes. What's your role of choice in CS2 - do you prefer playing as an entry fragger, support, or something else?\", additional_kwargs={}, response_metadata={'token_usage': {'completion_tokens': 72, 'prompt_tokens': 52, 'total_tokens': 124, 'completion_time': 0.143367444, 'prompt_time': 0.003292574, 'queue_time': 0.049968317, 'total_time': 0.146660018}, 'model_name': 'llama-3.1-8b-instant', 'system_fingerprint': 'fp_510c177af0', 'finish_reason': 'stop', 'logprobs': None}, id='run--e7e1b588-44d0-4938-a415-92cc28821b62-0', usage_metadata={'input_tokens': 52, 'output_tokens': 72, 'total_tokens': 124}), HumanMessage(content='Hi my name is Ava and I like gaming. My favourite game is CS2.', additional_kwargs={}, response_metadata={}, id='06ce4730-c20b-4d27-a2e2-574988124327'), AIMessage(content='Hello Ava, nice to meet you. CS2, or Counter-Strike 2, is a popular game. What do you enjoy most about playing CS2? Is it the competitive gameplay, the maps, or something else?', additional_kwargs={}, response_metadata={'token_usage': {'completion_tokens': 47, 'prompt_tokens': 150, 'total_tokens': 197, 'completion_time': 0.062666667, 'prompt_time': 0.008876743, 'queue_time': 0.048357618, 'total_time': 0.07154341}, 'model_name': 'llama-3.1-8b-instant', 'system_fingerprint': 'fp_510c177af0', 'finish_reason': 'stop', 'logprobs': None}, id='run--7813c547-fba8-41f7-a3c0-d77fff0e00dd-0', usage_metadata={'input_tokens': 150, 'output_tokens': 47, 'total_tokens': 197}), HumanMessage(content='Hi my name is Ava and I like gaming. My favourite game is CS2.', additional_kwargs={}, response_metadata={}, id='52c108a0-ec6c-45be-b8c7-f2f4372eb402')]}\n",
      "{'messages': [HumanMessage(content='Hi my name is Ava and I like gaming. My favourite game is CS2.', additional_kwargs={}, response_metadata={}, id='09ee0bb1-acd5-48a9-905b-efcd921047ba'), AIMessage(content=\"Hello Ava, nice to meet you. CS2, or Counter-Strike 2, is a popular first-person shooter game. It's known for its competitive multiplayer mode and requires a mix of strategy and quick reflexes. What's your role of choice in CS2 - do you prefer playing as an entry fragger, support, or something else?\", additional_kwargs={}, response_metadata={'token_usage': {'completion_tokens': 72, 'prompt_tokens': 52, 'total_tokens': 124, 'completion_time': 0.143367444, 'prompt_time': 0.003292574, 'queue_time': 0.049968317, 'total_time': 0.146660018}, 'model_name': 'llama-3.1-8b-instant', 'system_fingerprint': 'fp_510c177af0', 'finish_reason': 'stop', 'logprobs': None}, id='run--e7e1b588-44d0-4938-a415-92cc28821b62-0', usage_metadata={'input_tokens': 52, 'output_tokens': 72, 'total_tokens': 124}), HumanMessage(content='Hi my name is Ava and I like gaming. My favourite game is CS2.', additional_kwargs={}, response_metadata={}, id='06ce4730-c20b-4d27-a2e2-574988124327'), AIMessage(content='Hello Ava, nice to meet you. CS2, or Counter-Strike 2, is a popular game. What do you enjoy most about playing CS2? Is it the competitive gameplay, the maps, or something else?', additional_kwargs={}, response_metadata={'token_usage': {'completion_tokens': 47, 'prompt_tokens': 150, 'total_tokens': 197, 'completion_time': 0.062666667, 'prompt_time': 0.008876743, 'queue_time': 0.048357618, 'total_time': 0.07154341}, 'model_name': 'llama-3.1-8b-instant', 'system_fingerprint': 'fp_510c177af0', 'finish_reason': 'stop', 'logprobs': None}, id='run--7813c547-fba8-41f7-a3c0-d77fff0e00dd-0', usage_metadata={'input_tokens': 150, 'output_tokens': 47, 'total_tokens': 197}), HumanMessage(content='Hi my name is Ava and I like gaming. My favourite game is CS2.', additional_kwargs={}, response_metadata={}, id='52c108a0-ec6c-45be-b8c7-f2f4372eb402'), AIMessage(content=\"Hi Ava, it seems like you're repeating the same message. Don't worry, I'm here to chat about CS2 and gaming. Since we've already started a conversation, let's get back to it. What's your in-game name, and do you have a favorite map in CS2, such as Dust II or Vertigo?\", additional_kwargs={}, response_metadata={'token_usage': {'completion_tokens': 70, 'prompt_tokens': 223, 'total_tokens': 293, 'completion_time': 0.139633924, 'prompt_time': 0.013201646, 'queue_time': 0.047370694000000005, 'total_time': 0.15283557}, 'model_name': 'llama-3.1-8b-instant', 'system_fingerprint': 'fp_510c177af0', 'finish_reason': 'stop', 'logprobs': None}, id='run--b59aaeed-66b2-4988-8b7c-c2f8bdfb788c-0', usage_metadata={'input_tokens': 223, 'output_tokens': 70, 'total_tokens': 293})]}\n"
     ]
    }
   ],
   "source": [
    "for chunk in graph_builder.stream({\"messages\":\"Hi my name is Ava and I like gaming. My favourite game is CS2.\"},config=config,stream_mode=\"values\"):\n",
    "    print(chunk)"
   ]
  },
  {
   "cell_type": "code",
   "execution_count": 38,
   "id": "72c54dcf",
   "metadata": {},
   "outputs": [
    {
     "name": "stdout",
     "output_type": "stream",
     "text": [
      "{'Superbot': {'messages': [AIMessage(content=\"Nice to meet you, Ava. CS2, also known as Counter-Strike 2, is a popular first-person shooter game. It's great that you enjoy playing it. Are you a fan of any particular game mode, such as Bomb Defusal or Competitive? Or do you prefer playing with a specific role, like an entry-fragger or a support player?\", additional_kwargs={}, response_metadata={'token_usage': {'completion_tokens': 75, 'prompt_tokens': 52, 'total_tokens': 127, 'completion_time': 0.108893714, 'prompt_time': 0.002621964, 'queue_time': 0.053438516000000005, 'total_time': 0.111515678}, 'model_name': 'llama-3.1-8b-instant', 'system_fingerprint': 'fp_8ab2e50475', 'finish_reason': 'stop', 'logprobs': None}, id='run--cbd0d0bc-3575-4fe2-a977-de522c941ad8-0', usage_metadata={'input_tokens': 52, 'output_tokens': 75, 'total_tokens': 127})]}}\n"
     ]
    }
   ],
   "source": [
    "config={\"configurable\":{\"thread_id\":\"4\"}}\n",
    "\n",
    "for chunk in graph_builder.stream({\"messages\":\"Hi my name is Ava and I like gaming. My favourite game is CS2.\"},config=config,stream_mode=\"updates\"):\n",
    "    print(chunk)\n"
   ]
  },
  {
   "cell_type": "code",
   "execution_count": 39,
   "id": "18a34d2e",
   "metadata": {},
   "outputs": [
    {
     "name": "stdout",
     "output_type": "stream",
     "text": [
      "{'messages': [HumanMessage(content='Hi my name is Ava and I like gaming. My favourite game is CS2.', additional_kwargs={}, response_metadata={}, id='d10c8312-f983-4c62-b640-ee5f82c34774'), AIMessage(content=\"Nice to meet you, Ava. CS2, also known as Counter-Strike 2, is a popular first-person shooter game. It's great that you enjoy playing it. Are you a fan of any particular game mode, such as Bomb Defusal or Competitive? Or do you prefer playing with a specific role, like an entry-fragger or a support player?\", additional_kwargs={}, response_metadata={'token_usage': {'completion_tokens': 75, 'prompt_tokens': 52, 'total_tokens': 127, 'completion_time': 0.108893714, 'prompt_time': 0.002621964, 'queue_time': 0.053438516000000005, 'total_time': 0.111515678}, 'model_name': 'llama-3.1-8b-instant', 'system_fingerprint': 'fp_8ab2e50475', 'finish_reason': 'stop', 'logprobs': None}, id='run--cbd0d0bc-3575-4fe2-a977-de522c941ad8-0', usage_metadata={'input_tokens': 52, 'output_tokens': 75, 'total_tokens': 127}), HumanMessage(content='Hi my name is Ava and I like gaming. My favourite game is CS2. I alos like football', additional_kwargs={}, response_metadata={}, id='0ddb4ecf-3620-4292-b95a-e1e8d6364984')]}\n",
      "{'messages': [HumanMessage(content='Hi my name is Ava and I like gaming. My favourite game is CS2.', additional_kwargs={}, response_metadata={}, id='d10c8312-f983-4c62-b640-ee5f82c34774'), AIMessage(content=\"Nice to meet you, Ava. CS2, also known as Counter-Strike 2, is a popular first-person shooter game. It's great that you enjoy playing it. Are you a fan of any particular game mode, such as Bomb Defusal or Competitive? Or do you prefer playing with a specific role, like an entry-fragger or a support player?\", additional_kwargs={}, response_metadata={'token_usage': {'completion_tokens': 75, 'prompt_tokens': 52, 'total_tokens': 127, 'completion_time': 0.108893714, 'prompt_time': 0.002621964, 'queue_time': 0.053438516000000005, 'total_time': 0.111515678}, 'model_name': 'llama-3.1-8b-instant', 'system_fingerprint': 'fp_8ab2e50475', 'finish_reason': 'stop', 'logprobs': None}, id='run--cbd0d0bc-3575-4fe2-a977-de522c941ad8-0', usage_metadata={'input_tokens': 52, 'output_tokens': 75, 'total_tokens': 127}), HumanMessage(content='Hi my name is Ava and I like gaming. My favourite game is CS2. I alos like football', additional_kwargs={}, response_metadata={}, id='0ddb4ecf-3620-4292-b95a-e1e8d6364984'), AIMessage(content=\"Nice to meet you, Ava. CS2, also known as Counter-Strike 2, is a popular first-person shooter game. It's great that you enjoy playing it. Are you a fan of any particular game mode, such as Bomb Defusal or Competitive? Or do you prefer playing with a specific role, like an entry-fragger or a support player?\\n\\nAnd you also enjoy football, that's a great sport to watch or play. Are you a fan of any particular football team, or do you have a favorite player? Do you play football yourself, or do you prefer to watch it professionally?\", additional_kwargs={}, response_metadata={'token_usage': {'completion_tokens': 124, 'prompt_tokens': 158, 'total_tokens': 282, 'completion_time': 0.179150478, 'prompt_time': 0.0093088, 'queue_time': 0.053438756999999996, 'total_time': 0.188459278}, 'model_name': 'llama-3.1-8b-instant', 'system_fingerprint': 'fp_8ab2e50475', 'finish_reason': 'stop', 'logprobs': None}, id='run--3ce4d6b1-f9c6-4ee3-a625-a643f04c1a57-0', usage_metadata={'input_tokens': 158, 'output_tokens': 124, 'total_tokens': 282})]}\n"
     ]
    }
   ],
   "source": [
    "for chunk in graph_builder.stream({\"messages\":\"Hi my name is Ava and I like gaming. My favourite game is CS2. I alos like football\"},config=config,stream_mode=\"values\"):\n",
    "    print(chunk)"
   ]
  },
  {
   "cell_type": "code",
   "execution_count": 40,
   "id": "2accf110",
   "metadata": {},
   "outputs": [
    {
     "name": "stdout",
     "output_type": "stream",
     "text": [
      "{'event': 'on_chain_start', 'data': {'input': {'messages': ['Hi my name is Ava and I like gaming. My favourite game is CS2.']}}, 'name': 'LangGraph', 'tags': [], 'run_id': '4fea005b-65d8-468d-8346-129dec21fcf6', 'metadata': {'thread_id': '5'}, 'parent_ids': []}\n",
      "{'event': 'on_chain_start', 'data': {'input': {'messages': [HumanMessage(content='Hi my name is Ava and I like gaming. My favourite game is CS2.', additional_kwargs={}, response_metadata={}, id='e05bc569-8acb-40ed-ad82-b46e20c17218')]}}, 'name': 'Superbot', 'tags': ['graph:step:1'], 'run_id': '4fbfee16-37cb-4f6a-b230-3213520fff67', 'metadata': {'thread_id': '5', 'langgraph_step': 1, 'langgraph_node': 'Superbot', 'langgraph_triggers': ('branch:to:Superbot',), 'langgraph_path': ('__pregel_pull', 'Superbot'), 'langgraph_checkpoint_ns': 'Superbot:16885665-1652-d9f1-e29d-b62371b9394f'}, 'parent_ids': ['4fea005b-65d8-468d-8346-129dec21fcf6']}\n",
      "{'event': 'on_chain_stream', 'run_id': '4fbfee16-37cb-4f6a-b230-3213520fff67', 'name': 'Superbot', 'tags': ['graph:step:1'], 'metadata': {'thread_id': '5', 'langgraph_step': 1, 'langgraph_node': 'Superbot', 'langgraph_triggers': ('branch:to:Superbot',), 'langgraph_path': ('__pregel_pull', 'Superbot'), 'langgraph_checkpoint_ns': 'Superbot:16885665-1652-d9f1-e29d-b62371b9394f'}, 'data': {'chunk': {'messages': [AIMessage(content=\"Hi Ava, nice to meet you. CS2 (Counter-Strike 2) is a popular game among gamers, especially those who enjoy first-person shooters and competitive multiplayer games. What's your favorite role or playstyle in CS2? Are you more of an AWPer, a lancer, or a support player?\", additional_kwargs={}, response_metadata={'token_usage': {'completion_tokens': 66, 'prompt_tokens': 52, 'total_tokens': 118, 'completion_time': 0.101183179, 'prompt_time': 0.002611805, 'queue_time': 0.048570545, 'total_time': 0.103794984}, 'model_name': 'llama-3.1-8b-instant', 'system_fingerprint': 'fp_8ab2e50475', 'finish_reason': 'stop', 'logprobs': None}, id='run--618f2aff-2e72-4165-a4de-db8dff4a6fec-0', usage_metadata={'input_tokens': 52, 'output_tokens': 66, 'total_tokens': 118})]}}, 'parent_ids': ['4fea005b-65d8-468d-8346-129dec21fcf6']}\n",
      "{'event': 'on_chain_end', 'data': {'output': {'messages': [AIMessage(content=\"Hi Ava, nice to meet you. CS2 (Counter-Strike 2) is a popular game among gamers, especially those who enjoy first-person shooters and competitive multiplayer games. What's your favorite role or playstyle in CS2? Are you more of an AWPer, a lancer, or a support player?\", additional_kwargs={}, response_metadata={'token_usage': {'completion_tokens': 66, 'prompt_tokens': 52, 'total_tokens': 118, 'completion_time': 0.101183179, 'prompt_time': 0.002611805, 'queue_time': 0.048570545, 'total_time': 0.103794984}, 'model_name': 'llama-3.1-8b-instant', 'system_fingerprint': 'fp_8ab2e50475', 'finish_reason': 'stop', 'logprobs': None}, id='run--618f2aff-2e72-4165-a4de-db8dff4a6fec-0', usage_metadata={'input_tokens': 52, 'output_tokens': 66, 'total_tokens': 118})]}, 'input': {'messages': [HumanMessage(content='Hi my name is Ava and I like gaming. My favourite game is CS2.', additional_kwargs={}, response_metadata={}, id='e05bc569-8acb-40ed-ad82-b46e20c17218')]}}, 'run_id': '4fbfee16-37cb-4f6a-b230-3213520fff67', 'name': 'Superbot', 'tags': ['graph:step:1'], 'metadata': {'thread_id': '5', 'langgraph_step': 1, 'langgraph_node': 'Superbot', 'langgraph_triggers': ('branch:to:Superbot',), 'langgraph_path': ('__pregel_pull', 'Superbot'), 'langgraph_checkpoint_ns': 'Superbot:16885665-1652-d9f1-e29d-b62371b9394f'}, 'parent_ids': ['4fea005b-65d8-468d-8346-129dec21fcf6']}\n",
      "{'event': 'on_chain_stream', 'run_id': '4fea005b-65d8-468d-8346-129dec21fcf6', 'name': 'LangGraph', 'tags': [], 'metadata': {'thread_id': '5'}, 'data': {'chunk': {'Superbot': {'messages': [AIMessage(content=\"Hi Ava, nice to meet you. CS2 (Counter-Strike 2) is a popular game among gamers, especially those who enjoy first-person shooters and competitive multiplayer games. What's your favorite role or playstyle in CS2? Are you more of an AWPer, a lancer, or a support player?\", additional_kwargs={}, response_metadata={'token_usage': {'completion_tokens': 66, 'prompt_tokens': 52, 'total_tokens': 118, 'completion_time': 0.101183179, 'prompt_time': 0.002611805, 'queue_time': 0.048570545, 'total_time': 0.103794984}, 'model_name': 'llama-3.1-8b-instant', 'system_fingerprint': 'fp_8ab2e50475', 'finish_reason': 'stop', 'logprobs': None}, id='run--618f2aff-2e72-4165-a4de-db8dff4a6fec-0', usage_metadata={'input_tokens': 52, 'output_tokens': 66, 'total_tokens': 118})]}}}, 'parent_ids': []}\n",
      "{'event': 'on_chain_end', 'data': {'output': {'messages': [HumanMessage(content='Hi my name is Ava and I like gaming. My favourite game is CS2.', additional_kwargs={}, response_metadata={}, id='e05bc569-8acb-40ed-ad82-b46e20c17218'), AIMessage(content=\"Hi Ava, nice to meet you. CS2 (Counter-Strike 2) is a popular game among gamers, especially those who enjoy first-person shooters and competitive multiplayer games. What's your favorite role or playstyle in CS2? Are you more of an AWPer, a lancer, or a support player?\", additional_kwargs={}, response_metadata={'token_usage': {'completion_tokens': 66, 'prompt_tokens': 52, 'total_tokens': 118, 'completion_time': 0.101183179, 'prompt_time': 0.002611805, 'queue_time': 0.048570545, 'total_time': 0.103794984}, 'model_name': 'llama-3.1-8b-instant', 'system_fingerprint': 'fp_8ab2e50475', 'finish_reason': 'stop', 'logprobs': None}, id='run--618f2aff-2e72-4165-a4de-db8dff4a6fec-0', usage_metadata={'input_tokens': 52, 'output_tokens': 66, 'total_tokens': 118})]}}, 'run_id': '4fea005b-65d8-468d-8346-129dec21fcf6', 'name': 'LangGraph', 'tags': [], 'metadata': {'thread_id': '5'}, 'parent_ids': []}\n"
     ]
    }
   ],
   "source": [
    "config={\"configurable\":{\"thread_id\":\"5\"}}\n",
    "\n",
    "async for chunk in graph_builder.astream_events({\"messages\":[\"Hi my name is Ava and I like gaming. My favourite game is CS2.\"]},config,version=\"v2\"):\n",
    "    print(chunk)\n"
   ]
  },
  {
   "cell_type": "code",
   "execution_count": null,
   "id": "a35a42db",
   "metadata": {},
   "outputs": [],
   "source": []
  }
 ],
 "metadata": {
  "kernelspec": {
   "display_name": "LangGraphAgenticAI",
   "language": "python",
   "name": "python3"
  },
  "language_info": {
   "codemirror_mode": {
    "name": "ipython",
    "version": 3
   },
   "file_extension": ".py",
   "mimetype": "text/x-python",
   "name": "python",
   "nbconvert_exporter": "python",
   "pygments_lexer": "ipython3",
   "version": "3.10.12"
  }
 },
 "nbformat": 4,
 "nbformat_minor": 5
}
